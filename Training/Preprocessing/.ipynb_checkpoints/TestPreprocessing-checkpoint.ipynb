{
 "cells": [
  {
   "cell_type": "markdown",
   "metadata": {},
   "source": [
    "# Testing preprocessing functions"
   ]
  },
  {
   "cell_type": "code",
   "execution_count": 1,
   "metadata": {
    "collapsed": true
   },
   "outputs": [],
   "source": [
    "import os\n",
    "import numpy as np\n",
    "import SimpleITK as sitk\n",
    "import preprocessing_utils"
   ]
  },
  {
   "cell_type": "code",
   "execution_count": 2,
   "metadata": {},
   "outputs": [
    {
     "name": "stdout",
     "output_type": "stream",
     "text": [
      "406\n"
     ]
    }
   ],
   "source": [
    "f = r'D:\\Adam\\Data\\Registry\\REGISTRY_NCCT_BL\\R0001\\30119332\\1.3.6.1.4.1.40744.9.290955511895865679198607930054356070107'\n",
    "\n",
    "DicomFiles = [os.path.join(root, name)\n",
    "              for root, dirs, files in os.walk(f)\n",
    "              for name in files if name.endswith((\".dcm\", \".DCM\", \".dicom\", \".DICOM\"))]\n",
    "print(len(DicomFiles))"
   ]
  },
  {
   "cell_type": "code",
   "execution_count": 18,
   "metadata": {
    "collapsed": true
   },
   "outputs": [],
   "source": [
    "DicomFolder = r'D:\\Adam\\Data\\Registry\\REGISTRY_NCCT_BL\\R0001\\30119332\\1.3.6.1.4.1.40744.9.290955511895865679198607930054356070107'\n",
    "reader = sitk.ImageSeriesReader()\n",
    "series_found = reader.GetGDCMSeriesIDs(DicomFolder)\n",
    "if len(series_found) != 1:\n",
    "    print(patient + ' more series found.')\n",
    "filenames = reader.GetGDCMSeriesFileNames(DicomFolder, series_found[0])\n",
    "sorted_files = preprocessing_utils.sort_files(filenames, map=preprocessing_utils.GetZLocation)\n",
    "reader.SetFileNames(sorted_files)\n",
    "input_image = reader.Execute()\n"
   ]
  },
  {
   "cell_type": "code",
   "execution_count": 19,
   "metadata": {
    "collapsed": true
   },
   "outputs": [],
   "source": [
    "input_data = sitk.GetArrayFromImage(input_image)"
   ]
  },
  {
   "cell_type": "code",
   "execution_count": 29,
   "metadata": {},
   "outputs": [],
   "source": [
    "new_data, new_spacing = preprocessing_utils.resample(input_data, sitk.ReadImage(sorted_files[0]), [0.455,0.455,0.455])"
   ]
  },
  {
   "cell_type": "code",
   "execution_count": 30,
   "metadata": {},
   "outputs": [],
   "source": [
    "sitk.WriteImage(sitk.GetImageFromArray(new_data), r'D:\\Adam\\Data\\Registry\\REGISTRY_NCCT_BL\\R0001\\30119332\\resampled.mha')"
   ]
  },
  {
   "cell_type": "code",
   "execution_count": 31,
   "metadata": {},
   "outputs": [
    {
     "name": "stdout",
     "output_type": "stream",
     "text": [
      "(669, 512, 512)\n"
     ]
    }
   ],
   "source": [
    "print(np.shape(new_data))"
   ]
  },
  {
   "cell_type": "code",
   "execution_count": null,
   "metadata": {
    "collapsed": true
   },
   "outputs": [],
   "source": []
  },
  {
   "cell_type": "code",
   "execution_count": null,
   "metadata": {
    "collapsed": true
   },
   "outputs": [],
   "source": []
  },
  {
   "cell_type": "code",
   "execution_count": null,
   "metadata": {
    "collapsed": true
   },
   "outputs": [],
   "source": []
  }
 ],
 "metadata": {
  "kernelspec": {
   "display_name": "Python 3",
   "language": "python",
   "name": "python3"
  },
  "language_info": {
   "codemirror_mode": {
    "name": "ipython",
    "version": 3
   },
   "file_extension": ".py",
   "mimetype": "text/x-python",
   "name": "python",
   "nbconvert_exporter": "python",
   "pygments_lexer": "ipython3",
   "version": "3.5.2"
  }
 },
 "nbformat": 4,
 "nbformat_minor": 2
}
