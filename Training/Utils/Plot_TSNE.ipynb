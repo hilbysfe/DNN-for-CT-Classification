{
 "cells": [
  {
   "cell_type": "code",
   "execution_count": 3,
   "metadata": {
    "collapsed": false
   },
   "outputs": [],
   "source": [
    "import numpy as np\n",
    "import matplotlib.pyplot as Plot"
   ]
  },
  {
   "cell_type": "code",
   "execution_count": 13,
   "metadata": {
    "collapsed": false,
    "scrolled": false
   },
   "outputs": [],
   "source": [
    "labels = np.load('./features_best/labels.npy')\n",
    "Y = np.load('./features_best/fc2_weigths_tsne.npy')\n",
    "\n",
    "y1=Y[labels==1]\n",
    "y2=Y[labels==2]\n",
    "y3=Y[labels==3]\n",
    "y4=Y[labels==4]\n",
    "y5=Y[labels==5]\n",
    "y6=Y[labels==6]\n",
    "y7=Y[labels==7]\n",
    "y8=Y[labels==8]\n",
    "y9=Y[labels==9]\n",
    "y0=Y[labels==0]\n",
    "\n",
    "classes = ('plane', 'car', 'bird', 'cat', 'deer', 'dog', 'frog', 'horse', 'ship', 'truck')\n",
    "colors = ['blue', 'red', 'green', 'yellow', 'cyan', 'purple', 'darkorange', 'lime', 'lightcoral', 'magenta', ]\n",
    "\n",
    "ax0 = Plot.scatter(y0[:,0], y0[:,1], 30, colors[0]);\n",
    "ax1 = Plot.scatter(y1[:,0], y1[:,1], 30, colors[1]);\n",
    "ax2 = Plot.scatter(y2[:,0], y2[:,1], 30, colors[2]);\n",
    "ax3 = Plot.scatter(y3[:,0], y3[:,1], 30, colors[3]);\n",
    "ax4 = Plot.scatter(y4[:,0], y4[:,1], 30, colors[4]);\n",
    "ax5 = Plot.scatter(y5[:,0], y5[:,1], 30, colors[5]);\n",
    "ax6 = Plot.scatter(y6[:,0], y6[:,1], 30, colors[6]);\n",
    "ax7 = Plot.scatter(y7[:,0], y7[:,1], 30, colors[7]);\n",
    "ax8 = Plot.scatter(y8[:,0], y8[:,1], 30, colors[8]);\n",
    "ax9 = Plot.scatter(y9[:,0], y9[:,1], 30, colors[9]);\n",
    "\n",
    "\n",
    "Plot.legend((ax0, ax1, ax2, ax3, ax4, ax5, ax6, ax7, ax8, ax9),\n",
    "            classes,\n",
    "            scatterpoints=1,\n",
    "            loc='upper right',\n",
    "            ncol=1,\n",
    "            fontsize=9)\n",
    "Plot.show();\n"
   ]
  },
  {
   "cell_type": "code",
   "execution_count": null,
   "metadata": {
    "collapsed": true
   },
   "outputs": [],
   "source": []
  }
 ],
 "metadata": {
  "kernelspec": {
   "display_name": "Python 3",
   "language": "python",
   "name": "python3"
  },
  "language_info": {
   "codemirror_mode": {
    "name": "ipython",
    "version": 3
   },
   "file_extension": ".py",
   "mimetype": "text/x-python",
   "name": "python",
   "nbconvert_exporter": "python",
   "pygments_lexer": "ipython3",
   "version": "3.6.0"
  }
 },
 "nbformat": 4,
 "nbformat_minor": 0
}
